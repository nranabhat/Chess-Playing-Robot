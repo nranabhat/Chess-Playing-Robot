{
 "cells": [
  {
   "cell_type": "code",
   "execution_count": 1,
   "metadata": {},
   "outputs": [],
   "source": [
    "import numpy as np\n",
    "def constant_velocity_interpolation(pos_init, pos_end, endpoint_speed, command_frequency):\n",
    "    \n",
    "    displacement = pos_end-pos_init\n",
    "    distance = np.linalg.norm(displacement)\n",
    "    duration_nom = distance / endpoint_speed \n",
    "    \n",
    "    nsteps = np.ceil( duration_nom * command_frequency)\n",
    "    duration_spec = nsteps / command_frequency\n",
    "    t_rel = np.arange(nsteps)/nsteps\n",
    "    t = t_rel*duration_spec\n",
    "    \n",
    "    # Code \n",
    "    disp_traj = np.linspace(pos_init, pos_end, len(t))\n",
    "    \n",
    "    return t,disp_traj"
   ]
  },
  {
   "cell_type": "code",
   "execution_count": 19,
   "metadata": {},
   "outputs": [
    {
     "name": "stdout",
     "output_type": "stream",
     "text": [
      "[0.         0.02222222 0.04444444 0.06666667 0.08888889 0.11111111\n",
      " 0.13333333 0.15555556 0.17777778 0.2        0.22222222 0.24444444\n",
      " 0.26666667 0.28888889 0.31111111 0.33333333 0.35555556 0.37777778\n",
      " 0.4        0.42222222 0.44444444]\n",
      "21\n"
     ]
    }
   ],
   "source": [
    "start = np.array([0.1,0.1,0.1])\n",
    "end = np.array([0.1,-0.1,0.2])\n",
    "endpoint_speed = 0.5\n",
    "command_frequency = 45\n",
    "\n",
    "t,traj = constant_velocity_interpolation(start,end,endpoint_speed,command_frequency)\n",
    "print(t)\n",
    "print(len(t))\n"
   ]
  }
 ],
 "metadata": {
  "kernelspec": {
   "display_name": "Python 3",
   "language": "python",
   "name": "python3"
  },
  "language_info": {
   "codemirror_mode": {
    "name": "ipython",
    "version": 3
   },
   "file_extension": ".py",
   "mimetype": "text/x-python",
   "name": "python",
   "nbconvert_exporter": "python",
   "pygments_lexer": "ipython3",
   "version": "3.10.2"
  }
 },
 "nbformat": 4,
 "nbformat_minor": 2
}
