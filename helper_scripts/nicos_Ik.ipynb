{
 "cells": [
  {
   "cell_type": "markdown",
   "metadata": {},
   "source": [
    "## Find inverse kinematic angles using scipi.optimize"
   ]
  },
  {
   "cell_type": "code",
   "execution_count": 2,
   "metadata": {},
   "outputs": [
    {
     "data": {
      "text/plain": [
       "array([0.2057, 0.    , 0.2473])"
      ]
     },
     "execution_count": 2,
     "metadata": {},
     "output_type": "execute_result"
    }
   ],
   "source": [
    "import numpy as np\n",
    "from nicos_FwdKinArmRob_serial import armrobfwdkin\n",
    "\n",
    "# testing forward kinematics. Seems to work. \n",
    "test_angles = [0.244978663127, -0.553231565311, 1.98924862896, 0.0, -1.43601706365, 0.0]\n",
    "test_angles = [0.0, -np.pi/2., np.pi/2., 0.0, 0.0, 0.0]\n",
    "test_endpoint = armrobfwdkin(test_angles)\n",
    "test_endpoint\n"
   ]
  },
  {
   "cell_type": "code",
   "execution_count": 23,
   "metadata": {},
   "outputs": [
    {
     "data": {
      "text/plain": [
       "array([  0.        , -64.8054255 ,  97.65012955,   0.        ,\n",
       "        76.3541811 ,   0.        ])"
      ]
     },
     "execution_count": 23,
     "metadata": {},
     "output_type": "execute_result"
    }
   ],
   "source": [
    "import scipy.optimize as optimize\n",
    "import numpy as np\n",
    "from nicos_FwdKinArmRob_serial import armrobfwdkin\n",
    "\n",
    "def endpoint_error(angles, args):\n",
    "    true_endpoint = args\n",
    "    x_true = true_endpoint[0]\n",
    "    y_true = true_endpoint[1]\n",
    "    alpha = np.arctan2(y_true, x_true)\n",
    "    beta1 = angles[0]\n",
    "    beta2 = angles[1]\n",
    "    beta3 = angles[2]\n",
    "    gamma3 = 0.0\n",
    "    gamma5 = 0.0\n",
    "    all_angles = [alpha, beta1, beta2, gamma3, beta3, gamma5]\n",
    "\n",
    "    estimated_endpoint = armrobfwdkin(all_angles)  # in radians \n",
    "    diff = true_endpoint - estimated_endpoint\n",
    "    error = np.linalg.norm(diff)\n",
    "    return error\n",
    "\n",
    "def calculate_angles(endpoint,angle_guess):\n",
    "    bounds = [(-3*np.pi/4, 0),  # Bounds for beta1\n",
    "            (0, np.pi),  # Bounds for beta2\n",
    "            (0, np.pi/2)]  # Bounds for beta3. have gripper above the pieces\n",
    "\n",
    "    # Perform the optimization with bounds\n",
    "    calculated_beta_angles = optimize.minimize(endpoint_error, angle_guess, args=(endpoint), method=\"SLSQP\", bounds=bounds)\n",
    "\n",
    "    return calculated_beta_angles\n",
    "\n",
    "def nico_IK(endpoint):\n",
    "    angle_guess = [-np.pi/4, np.pi/2, np.pi/4]\n",
    "    beta_angles = calculate_angles(endpoint, angle_guess).x\n",
    "    alpha = np.arctan2(endpoint[1], endpoint[0])\n",
    "    angles = [alpha, beta_angles[0], beta_angles[1], 0, beta_angles[2], 0]\n",
    "    return np.asfarray(angles)\n",
    "\n",
    "# Testing\n",
    "endpoint = [0.2057, 0.1, 0.2473]\n",
    "endpoint = [0.1,0,0.07]\n",
    "angle_guess = [0, 0, 0]\n",
    "# calculate_angles(endpoint, angle_guess).success # returns 'true'\n",
    "np.degrees(nico_IK(endpoint))\n"
   ]
  },
  {
   "cell_type": "markdown",
   "metadata": {},
   "source": [
    "### This method seems to work. Now I'll test it on a number of test points associated to the chess board"
   ]
  },
  {
   "cell_type": "code",
   "execution_count": 24,
   "metadata": {},
   "outputs": [
    {
     "data": {
      "text/plain": [
       "[True, True, True, True, True, True, True, True]"
      ]
     },
     "execution_count": 24,
     "metadata": {},
     "output_type": "execute_result"
    }
   ],
   "source": [
    "from chessboard_utils import make_move_path, load_config\n",
    "\n",
    "start_square = 'A1'\n",
    "end_square_list = [f\"{chr(row)}{col}\" for row in range(ord('A'), ord('H') + 1) for col in range(1, 9)]\n",
    "\n",
    "config = load_config('robot.yaml')\n",
    "move_paths = []\n",
    "for end_square in end_square_list:\n",
    "    move_paths.append(make_move_path(start_square, end_square, config))\n",
    "\n",
    "successes = []\n",
    "path = move_paths[0] # change this index (up to 63) to test different moves\n",
    "for point in path:\n",
    "    success = calculate_angles(point,angle_guess=[-np.pi/4, np.pi/2, np.pi/4]).success\n",
    "    successes.append(success)\n",
    "\n",
    "successes"
   ]
  },
  {
   "cell_type": "markdown",
   "metadata": {},
   "source": [
    "### Looks like we're able to solve IK for several different chess moves. Now we should visualize with a sim or the real robot."
   ]
  },
  {
   "cell_type": "code",
   "execution_count": 25,
   "metadata": {},
   "outputs": [
    {
     "data": {
      "text/plain": [
       "array([0.20570083, 0.10000041, 0.24730118])"
      ]
     },
     "execution_count": 25,
     "metadata": {},
     "output_type": "execute_result"
    }
   ],
   "source": [
    "\n",
    "endpoint = [0.2057, 0.1, 0.2473]\n",
    "#endpoint = [0.1, 0, 0.05]\n",
    "# calculate_angles(endpoint, angle_guess).success # returns 'true'\n",
    "calc_angles = nico_IK(endpoint)\n",
    "armrobfwdkin(calc_angles)"
   ]
  }
 ],
 "metadata": {
  "kernelspec": {
   "display_name": "Python 3",
   "language": "python",
   "name": "python3"
  },
  "language_info": {
   "codemirror_mode": {
    "name": "ipython",
    "version": 3
   },
   "file_extension": ".py",
   "mimetype": "text/x-python",
   "name": "python",
   "nbconvert_exporter": "python",
   "pygments_lexer": "ipython3",
   "version": "3.10.2"
  }
 },
 "nbformat": 4,
 "nbformat_minor": 2
}
