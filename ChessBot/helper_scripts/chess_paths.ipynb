{
 "cells": [
  {
   "cell_type": "code",
   "execution_count": 12,
   "metadata": {},
   "outputs": [
    {
     "data": {
      "text/plain": [
       "array([[ 0.01   ,  0.     ,  0.1    ],\n",
       "       [ 0.02125,  0.07875,  0.04   ],\n",
       "       [ 0.02125,  0.07875,  0.02   ],\n",
       "       [ 0.02125,  0.07875,  0.07   ],\n",
       "       [ 0.11125, -0.05625,  0.07   ],\n",
       "       [ 0.11125, -0.05625,  0.02   ],\n",
       "       [ 0.11125, -0.05625,  0.04   ],\n",
       "       [ 0.01   ,  0.     ,  0.1    ]])"
      ]
     },
     "execution_count": 12,
     "metadata": {},
     "output_type": "execute_result"
    }
   ],
   "source": [
    "import numpy as np\n",
    "import smooth_interpolation as smooth\n",
    "import nico_InvKin as NIK\n",
    "from chessboard_utils import load_config, make_move_path, square_to_coord\n",
    "\n",
    "config = load_config(r'C:\\Users\\Nicor\\OneDrive\\Documents\\Sem 9\\ECE 439\\Final Project\\xarmrob_v04\\src\\robot.yaml')\n",
    " # Load the chessboard configuration and calculate the move path\n",
    "start_square = 'A1'\n",
    "end_square = 'G5'\n",
    "move_path = make_move_path(start_square, end_square, config)\n",
    "\n",
    "move_path\n"
   ]
  },
  {
   "cell_type": "code",
   "execution_count": 14,
   "metadata": {},
   "outputs": [
    {
     "name": "stdout",
     "output_type": "stream",
     "text": [
      "[0.01 0.   0.1 ]\n",
      "[0.02125 0.07875 0.04   ]\n",
      "[0.02125 0.07875 0.02   ]\n",
      "[0.02125 0.07875 0.07   ]\n",
      "[ 0.11125 -0.05625  0.07   ]\n",
      "[ 0.11125 -0.05625  0.02   ]\n",
      "[ 0.11125 -0.05625  0.04   ]\n",
      "[0.01 0.   0.1 ]\n"
     ]
    },
    {
     "data": {
      "text/plain": [
       "array([  0.        , -45.49126323, 148.58180525,   0.        ,\n",
       "        89.68632801,   0.        ])"
      ]
     },
     "execution_count": 14,
     "metadata": {},
     "output_type": "execute_result"
    }
   ],
   "source": [
    "current_position=np.array([0.1,0,0.08])\n",
    "for xyz_goal in move_path:\n",
    "\n",
    "    # Generate a minimum jerk trajectory to the new point\n",
    "    _, trajectory = smooth.minimum_jerk_interpolation(current_position, xyz_goal, \n",
    "                                                    endpoint_speed=0.5, command_frequency=45)\n",
    "    \n",
    "    print(xyz_goal)\n",
    "\n",
    "    for point in trajectory:\n",
    "        # Compute Inverse Kinematics for each intermediate point\n",
    "        #ang = IK.armrobinvkin(np.array(xyz_goal))\n",
    "        ang = NIK.nico_IK(np.array(point))\n",
    "        \n",
    "np.degrees(ang)"
   ]
  }
 ],
 "metadata": {
  "kernelspec": {
   "display_name": "Python 3",
   "language": "python",
   "name": "python3"
  },
  "language_info": {
   "codemirror_mode": {
    "name": "ipython",
    "version": 3
   },
   "file_extension": ".py",
   "mimetype": "text/x-python",
   "name": "python",
   "nbconvert_exporter": "python",
   "pygments_lexer": "ipython3",
   "version": "3.10.2"
  }
 },
 "nbformat": 4,
 "nbformat_minor": 2
}
